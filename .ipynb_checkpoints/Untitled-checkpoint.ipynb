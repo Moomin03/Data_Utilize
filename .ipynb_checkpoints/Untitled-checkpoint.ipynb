{
 "cells": [
  {
   "cell_type": "markdown",
   "id": "10c55e80-698e-40ea-b939-7c6215d61142",
   "metadata": {},
   "source": [
    "## 01장 웹에서 주문 수를 분석하는 테크닉 10\n",
    "---\n",
    "    이번장에서의 목표 : 어떤 기업 쇼핑몰 사이트의 상품 주문 수의 추세를 분석함으로써 판매량 개선의 방향을 찾는 것\n",
    "---\n",
    "### 데이터셋 설명\n",
    "    customer_mater.csv : 쇼핑몰 사이트의 고객 정보\n",
    "    item_master.csv : 취급하는 상품 데이터, 상품명, 가격 등\n",
    "    transaction_1.csv, transaction_2.csv는 구매내역 데이터\n",
    "    transaction_detail_1.csv, transaction_detail_2.csv : 구매내역 상세 데이터"
   ]
  },
  {
   "cell_type": "code",
   "execution_count": null,
   "id": "00329b3f-b382-44de-9a36-68edc8f05599",
   "metadata": {},
   "outputs": [],
   "source": []
  }
 ],
 "metadata": {
  "kernelspec": {
   "display_name": "Python 3 (ipykernel)",
   "language": "python",
   "name": "python3"
  },
  "language_info": {
   "codemirror_mode": {
    "name": "ipython",
    "version": 3
   },
   "file_extension": ".py",
   "mimetype": "text/x-python",
   "name": "python",
   "nbconvert_exporter": "python",
   "pygments_lexer": "ipython3",
   "version": "3.12.7"
  }
 },
 "nbformat": 4,
 "nbformat_minor": 5
}
